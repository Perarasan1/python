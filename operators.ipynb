{
 "cells": [
  {
   "cell_type": "code",
   "execution_count": 1,
   "metadata": {},
   "outputs": [
    {
     "name": "stdout",
     "output_type": "stream",
     "text": [
      "False\n",
      "True\n",
      "False\n",
      "True\n",
      "False\n",
      "True\n"
     ]
    }
   ],
   "source": [
    "# Examples of Relational Operators\n",
    "a = 13\n",
    "b = 33\n",
    "\n",
    "# a > b is False\n",
    "print(a > b)\n",
    "\n",
    "# a < b is True\n",
    "print(a < b)\n",
    "\n",
    "# a == b is False\n",
    "print(a == b)\n",
    "\n",
    "# a != b is True\n",
    "print(a != b)\n",
    "\n",
    "# a >= b is False\n",
    "print(a >= b)\n",
    "\n",
    "# a <= b is True\n",
    "print(a <= b)\n"
   ]
  },
  {
   "cell_type": "code",
   "execution_count": 2,
   "metadata": {},
   "outputs": [
    {
     "name": "stdout",
     "output_type": "stream",
     "text": [
      "13\n",
      "5\n",
      "36\n",
      "1\n",
      "6561\n"
     ]
    }
   ],
   "source": [
    "# Examples of Arithmetic Operator\n",
    "a = 9\n",
    "b = 4\n",
    "\n",
    "# Addition of numbers\n",
    "add = a + b\n",
    "\n",
    "# Subtraction of numbers\n",
    "sub = a - b\n",
    "\n",
    "# Multiplication of number\n",
    "mul = a * b\n",
    "\n",
    "# Modulo of both number\n",
    "mod = a % b\n",
    "\n",
    "# Power\n",
    "p = a ** b\n",
    "\n",
    "# print results\n",
    "print(add)\n",
    "print(sub)\n",
    "print(mul)\n",
    "print(mod)\n",
    "print(p)\n"
   ]
  },
  {
   "cell_type": "code",
   "execution_count": 3,
   "metadata": {},
   "outputs": [
    {
     "name": "stdout",
     "output_type": "stream",
     "text": [
      "False\n",
      "True\n",
      "False\n"
     ]
    }
   ],
   "source": [
    "# Examples of Logical Operator\n",
    "a = True\n",
    "b = False\n",
    "\n",
    "# Print a and b is False\n",
    "print(a and b)\n",
    "\n",
    "# Print a or b is True\n",
    "print(a or b)\n",
    "\n",
    "# Print not a is False\n",
    "print(not a)\n"
   ]
  },
  {
   "cell_type": "code",
   "execution_count": 17,
   "metadata": {},
   "outputs": [
    {
     "name": "stdout",
     "output_type": "stream",
     "text": [
      "-6\n"
     ]
    }
   ],
   "source": [
    "a=3\n",
    "b=9\n",
    "c=a-b\n",
    "print(c)"
   ]
  },
  {
   "cell_type": "code",
   "execution_count": 25,
   "metadata": {},
   "outputs": [
    {
     "name": "stdout",
     "output_type": "stream",
     "text": [
      "27\n"
     ]
    }
   ],
   "source": [
    "a=30\n",
    "b=4\n",
    "p=a%b+5\n",
    "q=a+b\n",
    "w=q-p\n",
    "print(w)\n"
   ]
  },
  {
   "cell_type": "code",
   "execution_count": 33,
   "metadata": {},
   "outputs": [
    {
     "name": "stdout",
     "output_type": "stream",
     "text": [
      "0\n",
      "14\n",
      "-11\n",
      "14\n",
      "2\n",
      "40\n"
     ]
    }
   ],
   "source": [
    "# Examples of Bitwise operators\n",
    "a = 10\n",
    "b = 4\n",
    "\n",
    "# Print bitwise AND operation\n",
    "print(a & b)\n",
    "\n",
    "# Print bitwise OR operation\n",
    "print(a | b)\n",
    "\n",
    "# Print bitwise NOT operation\n",
    "print(~a)\n",
    "\n",
    "# print bitwise XOR operation\n",
    "print(a ^ b)\n",
    "\n",
    "# print bitwise right shift operation\n",
    "print(a >> 2)\n",
    "\n",
    "# print bitwise left shift operation\n",
    "print(a << 2)"
   ]
  },
  {
   "cell_type": "code",
   "execution_count": 38,
   "metadata": {},
   "outputs": [
    {
     "name": "stdout",
     "output_type": "stream",
     "text": [
      "10\n",
      "20\n",
      "10\n",
      "100\n",
      "102400\n"
     ]
    }
   ],
   "source": [
    "# Examples of Assignment Operators\n",
    "a = 10\n",
    "\n",
    "# Assign value\n",
    "b = a\n",
    "print(b)\n",
    "\n",
    "# Add and assign value\n",
    "b += a\n",
    "print(b)\n",
    "\n",
    "# Subtract and assign value\n",
    "b -= a\n",
    "print(b)\n",
    "\n",
    "# multiply and assign\n",
    "b *= a\n",
    "print(b)\n",
    "\n",
    "# bitwise lishift operator\n",
    "b <<= a\n",
    "print(b)\n"
   ]
  },
  {
   "cell_type": "code",
   "execution_count": 44,
   "metadata": {},
   "outputs": [
    {
     "name": "stdout",
     "output_type": "stream",
     "text": [
      "True\n",
      "True\n"
     ]
    }
   ],
   "source": [
    "a = 10\n",
    "b = 20\n",
    "c = a\n",
    "\n",
    "print(a is not b)\n",
    "print(a is c)\n"
   ]
  },
  {
   "cell_type": "code",
   "execution_count": 55,
   "metadata": {},
   "outputs": [
    {
     "name": "stdout",
     "output_type": "stream",
     "text": [
      "x is present in given list\n",
      "y is present in given list\n"
     ]
    }
   ],
   "source": [
    "# Python program to illustrate\n",
    "# not 'in' operator\n",
    "x = 20\n",
    "y = 20\n",
    "list = [10, 20, 30, 40, 50]\n",
    "\n",
    "if (x not in list):\n",
    "\tprint(\"x is NOT present in given list\")\n",
    "else:\n",
    "\tprint(\"x is present in given list\")\n",
    "\n",
    "if (y in list):\n",
    "\tprint(\"y is present in given list\")\n",
    "else:\n",
    "\tprint(\"y is NOT present in given list\")\n"
   ]
  }
 ],
 "metadata": {
  "kernelspec": {
   "display_name": "Python 3",
   "language": "python",
   "name": "python3"
  },
  "language_info": {
   "codemirror_mode": {
    "name": "ipython",
    "version": 3
   },
   "file_extension": ".py",
   "mimetype": "text/x-python",
   "name": "python",
   "nbconvert_exporter": "python",
   "pygments_lexer": "ipython3",
   "version": "3.11.5"
  }
 },
 "nbformat": 4,
 "nbformat_minor": 4
}
